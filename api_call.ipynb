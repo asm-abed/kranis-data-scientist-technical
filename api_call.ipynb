{
 "cells": [
  {
   "cell_type": "code",
   "execution_count": 1,
   "metadata": {},
   "outputs": [],
   "source": [
    "import openmeteo_requests\n",
    "\n",
    "import requests_cache\n",
    "import pandas as pd\n",
    "from retry_requests import retry"
   ]
  },
  {
   "cell_type": "code",
   "execution_count": null,
   "metadata": {},
   "outputs": [],
   "source": [
    "weather_codes = {\n",
    "    0: \"Clear sky\",\n",
    "    1: \"Mainly clear\",\n",
    "    2: \"Partly cloudy\",\n",
    "    3: \"Overcast\",\n",
    "    45: \"Fog\",\n",
    "    48: \"Depositing rime fog\",\n",
    "    51: \"Drizzle: Light intensity\",\n",
    "    53: \"Drizzle: Moderate intensity\",\n",
    "    55: \"Drizzle: Dense intensity\",\n",
    "    56: \"Freezing Drizzle: Light intensity\",\n",
    "    57: \"Freezing Drizzle: Dense intensity\",\n",
    "    61: \"Rain: Slight intensity\",\n",
    "    63: \"Rain: Moderate intensity\",\n",
    "    65: \"Rain: Heavy intensity\",\n",
    "    66: \"Freezing Rain: Light intensity\",\n",
    "    67: \"Freezing Rain: Heavy intensity\",\n",
    "    71: \"Snow fall: Slight intensity\",\n",
    "    73: \"Snow fall: Moderate intensity\",\n",
    "    75: \"Snow fall: Heavy intensity\",\n",
    "    77: \"Snow grains\",\n",
    "    80: \"Rain showers: Slight intensity\",\n",
    "    81: \"Rain showers: Moderate intensity\",\n",
    "    82: \"Rain showers: Violent intensity\",\n",
    "    85: \"Snow showers: Slight intensity\",\n",
    "    86: \"Snow showers: Heavy intensity\",\n",
    "    95: \"Thunderstorm: Slight or moderate\",\n",
    "    96: \"Thunderstorm with slight hail\",\n",
    "    99: \"Thunderstorm with heavy hail\"\n",
    "}\n"
   ]
  },
  {
   "cell_type": "code",
   "execution_count": null,
   "metadata": {},
   "outputs": [],
   "source": [
    "# Setup the Open-Meteo API client with cache and retry on error\n",
    "cache_session = requests_cache.CachedSession('.cache', expire_after = 3600)\n",
    "retry_session = retry(cache_session, retries = 5, backoff_factor = 0.2)\n",
    "openmeteo = openmeteo_requests.Client(session = retry_session)\n",
    "\n",
    "# Make sure all required weather variables are listed here\n",
    "# The order of variables in hourly or daily is important to assign them correctly below\n",
    "url = \"https://api.open-meteo.com/v1/forecast\"\n",
    "params = {\n",
    "\t\"latitude\": 14.5869,\n",
    "\t\"longitude\": 121.0614,\n",
    "    \"city\": \"Pasig City, Philippines\",\n",
    "\t\"current\": [\"temperature_2m\", \"relative_humidity_2m\", \"weather_code\"],\n",
    "\t\"timezone\": \"Asia/Singapore\"\n",
    "}\n",
    "weather_data = openmeteo.weather_api(url, params=params)\n",
    "\n",
    "# Process first location. Add a for-loop for multiple locations or weather models\n",
    "response = weather_data[0]\n",
    "\n",
    "# Current values. The order of variables needs to be the same as requested.\n",
    "current = response.Current()\n",
    "current_temperature_2m = current.Variables(0).Value()\n",
    "current_relative_humidity_2m = current.Variables(1).Value()\n",
    "current_weather_code = current.Variables(2).Value()\n",
    "\n",
    "print(f\"Current time {pd.to_datetime(current.Time(), unit='s', utc=True)}\")\n",
    "print(f\"Current temperature_2m {current_temperature_2m}\")\n",
    "print(f\"Current relative_humidity_2m {current_relative_humidity_2m}\")\n",
    "print(f\"Current weather_code {current_weather_code}\")\n"
   ]
  },
  {
   "cell_type": "code",
   "execution_count": null,
   "metadata": {},
   "outputs": [],
   "source": [
    "# Initialize an empty dictionary\n",
    "weather_fc = {}\n",
    "\n",
    "# Assuming there are 3 variables in order: temperature, humidity, weather code\n",
    "variable_names = [\"temperature\", \"humidity\", \"weather_code\"]\n",
    "\n",
    "# Loop through variables and add them to the dictionary\n",
    "for i, name in enumerate(variable_names):\n",
    "    weather_fc[name] = current.Variables(i).Value()\n",
    "\n",
    "# Add time to the dictionary\n",
    "weather_fc[\"city\"] = params.get(\"city\")\n",
    "weather_fc[\"timestamp\"] = pd.to_datetime(current.Time(), unit='s')\n",
    "weather_fc[\"weather_description\"] = weather_codes.get(weather_fc[\"weather_code\"], \"Unknown\")\n",
    "\n",
    "# Print the dictionary\n",
    "print(weather_fc)\n"
   ]
  },
  {
   "cell_type": "markdown",
   "metadata": {},
   "source": []
  }
 ],
 "metadata": {
  "kernelspec": {
   "display_name": "Python 3",
   "language": "python",
   "name": "python3"
  },
  "language_info": {
   "codemirror_mode": {
    "name": "ipython",
    "version": 3
   },
   "file_extension": ".py",
   "mimetype": "text/x-python",
   "name": "python",
   "nbconvert_exporter": "python",
   "pygments_lexer": "ipython3",
   "version": "3.12.1"
  }
 },
 "nbformat": 4,
 "nbformat_minor": 2
}
